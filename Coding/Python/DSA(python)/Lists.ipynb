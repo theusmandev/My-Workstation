{
 "cells": [
  {
   "cell_type": "markdown",
   "id": "8ad3020f",
   "metadata": {},
   "source": [
    "The list is changeable, meaning that we can change, add, and remove items in a list after it has been created.\n",
    "\n"
   ]
  },
  {
   "cell_type": "code",
   "execution_count": null,
   "id": "f953b729",
   "metadata": {},
   "outputs": [],
   "source": [
    "orders = [\n",
    "    \"201,Mouse,800,2\",\n",
    "    \"202,Keyboard,1500,1\",\n",
    "    \"203,Monitor,12000,1\"\n",
    "]\n"
   ]
  },
  {
   "cell_type": "code",
   "execution_count": null,
   "id": "99ff45b7",
   "metadata": {},
   "outputs": [],
   "source": []
  }
 ],
 "metadata": {
  "language_info": {
   "name": "python"
  }
 },
 "nbformat": 4,
 "nbformat_minor": 5
}
