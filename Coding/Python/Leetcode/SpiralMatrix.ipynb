{
 "cells": [
  {
   "cell_type": "markdown",
   "id": "f2b94c27",
   "metadata": {},
   "source": [
    "Given a matrix of mxn elements , return all elements of the matrix in spiral order."
   ]
  },
  {
   "cell_type": "code",
   "execution_count": 1,
   "id": "f26f8aaa",
   "metadata": {},
   "outputs": [],
   "source": [
    "from typing import List\n",
    "\n",
    "class Solution:\n",
    "    def spiralOrder(self, matrix: List[List[int]]) -> List[int]:\n",
    "        if not matrix:\n",
    "            return []\n",
    "\n",
    "        rowbegin = 0\n",
    "        rowend = len(matrix)\n",
    "        columnbegin = 0\n",
    "        columnend = len(matrix[0])\n",
    "        res = []\n",
    "\n",
    "        while rowbegin < rowend and columnbegin < columnend:\n",
    "            # Traverse Right\n",
    "            for i in range(columnbegin, columnend):\n",
    "                res.append(matrix[rowbegin][i])\n",
    "            rowbegin += 1\n",
    "\n",
    "            # Traverse Down\n",
    "            for i in range(rowbegin, rowend):\n",
    "                res.append(matrix[i][columnend - 1])\n",
    "            columnend -= 1\n",
    "\n",
    "            # Traverse Left\n",
    "            if rowbegin < rowend:\n",
    "                for i in range(columnend - 1, columnbegin - 1, -1):\n",
    "                    res.append(matrix[rowend - 1][i])\n",
    "                rowend -= 1\n",
    "\n",
    "            # Traverse Up\n",
    "            if columnbegin < columnend:\n",
    "                for i in range(rowend - 1, rowbegin - 1, -1):\n",
    "                    res.append(matrix[i][columnbegin])\n",
    "                columnbegin += 1\n",
    "\n",
    "        return res\n"
   ]
  },
  {
   "cell_type": "code",
   "execution_count": 2,
   "id": "ce00a71f",
   "metadata": {},
   "outputs": [
    {
     "name": "stdout",
     "output_type": "stream",
     "text": [
      "[1, 2, 3, 6, 9, 8, 7, 4, 5]\n"
     ]
    }
   ],
   "source": [
    "matrix = [[1,2,3],[4,5,6],[7,8,9]]\n",
    "sol = Solution()\n",
    "print(sol.spiralOrder(matrix))\n"
   ]
  }
 ],
 "metadata": {
  "kernelspec": {
   "display_name": "Python 3",
   "language": "python",
   "name": "python3"
  },
  "language_info": {
   "codemirror_mode": {
    "name": "ipython",
    "version": 3
   },
   "file_extension": ".py",
   "mimetype": "text/x-python",
   "name": "python",
   "nbconvert_exporter": "python",
   "pygments_lexer": "ipython3",
   "version": "3.13.2"
  }
 },
 "nbformat": 4,
 "nbformat_minor": 5
}
