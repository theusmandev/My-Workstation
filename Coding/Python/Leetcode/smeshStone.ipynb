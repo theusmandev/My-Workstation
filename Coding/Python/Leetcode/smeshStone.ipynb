{
 "cells": [
  {
   "cell_type": "code",
   "execution_count": 1,
   "metadata": {},
   "outputs": [
    {
     "name": "stdout",
     "output_type": "stream",
     "text": [
      "Hello World\n"
     ]
    }
   ],
   "source": [
    "print('Hello World')"
   ]
  },
  {
   "cell_type": "markdown",
   "metadata": {},
   "source": [
    "### We have a collection of stones , each stone has a positive integer weight.<br>\n",
    "### Each turn, We choose the two heaviest stones and smash them together. Suppose the stones have x and y weights with x<=y . The result of this smash is:\n",
    "<br>\n",
    "if x==y , both stones are totally destroyed:\n",
    "if x!=y, the stone of weight x is totally destroyed , and the stone of weight y has new weight y-x.\n",
    "At the end, there is at most 1 stone left . Return the weight of this stone (or 0 if there are no stones left.)"
   ]
  },
  {
   "cell_type": "code",
   "execution_count": null,
   "metadata": {},
   "outputs": [
    {
     "name": "stdout",
     "output_type": "stream",
     "text": [
      "{0, 2, 3, 4, 5, 6, 7, 8, 9}\n"
     ]
    }
   ],
   "source": [
    "x = [0,2,3,4,5,3,2,7,6,7,9,8]\n",
    "remove_dup = set(x)\n",
    "print(remove_dup)\n",
    "print(type(remove_dup))\n",
    "remove_dup = list(remove_dup)\n",
    "print(remove_dup)\n",
    "\n",
    "\n"
   ]
  },
  {
   "cell_type": "code",
   "execution_count": 4,
   "metadata": {},
   "outputs": [
    {
     "name": "stdout",
     "output_type": "stream",
     "text": [
      "[0, 2, 3, 4, 5, 6, 7, 8, 9]\n"
     ]
    }
   ],
   "source": [
    "x = [0,2,3,4,5,3,2,7,6,7,9,8]\n",
    "remove_dup = set(x)\n",
    "\n",
    "new_list = list(remove_dup)\n",
    "\n",
    "print(new_list)"
   ]
  },
  {
   "cell_type": "code",
   "execution_count": 2,
   "metadata": {},
   "outputs": [
    {
     "name": "stdout",
     "output_type": "stream",
     "text": [
      "[0, 4, 5, 6, 9, 8]\n"
     ]
    }
   ],
   "source": [
    "x = [0, 2, 3, 4, 5, 3, 2, 7, 6, 7, 9, 8]\n",
    "\n",
    "remove_dup = [i for i in x if x.count(i)==1]\n",
    "\n",
    "print(remove_dup)"
   ]
  },
  {
   "cell_type": "code",
   "execution_count": 3,
   "metadata": {},
   "outputs": [
    {
     "name": "stdout",
     "output_type": "stream",
     "text": [
      "[0, 4, 5, 6, 8, 9]\n"
     ]
    }
   ],
   "source": [
    "y = [0, 4, 5, 6, 9, 8]\n",
    "\n",
    "z = sorted(y)\n",
    "print(z)"
   ]
  },
  {
   "cell_type": "markdown",
   "metadata": {},
   "source": [
    "# Solution"
   ]
  },
  {
   "cell_type": "code",
   "execution_count": 5,
   "metadata": {},
   "outputs": [
    {
     "name": "stdout",
     "output_type": "stream",
     "text": [
      "Updated list: [0, 2, 3, 4, 5, 6, 7, 8, 9]\n",
      "Subtracting 8 from 9: 1\n",
      "Updated list: [0, 1, 2, 3, 4, 5, 6, 7, 8]\n",
      "Subtracting 7 from 8: 1\n",
      "Updated list: [0, 1, 2, 3, 4, 5, 6, 7]\n",
      "Subtracting 6 from 7: 1\n",
      "Updated list: [0, 1, 2, 3, 4, 5, 6]\n",
      "Subtracting 5 from 6: 1\n",
      "Updated list: [0, 1, 2, 3, 4, 5]\n",
      "Subtracting 4 from 5: 1\n",
      "Updated list: [0, 1, 2, 3, 4]\n",
      "Subtracting 3 from 4: 1\n",
      "Updated list: [0, 1, 2, 3]\n",
      "Subtracting 2 from 3: 1\n",
      "Updated list: [0, 1, 2]\n",
      "Subtracting 1 from 2: 1\n",
      "Updated list: [0, 1]\n",
      "List has reached [0, 1], stopping loop.\n"
     ]
    }
   ],
   "source": [
    "x = [0, 2, 3, 4, 5, 3, 2, 7, 6, 7, 9, 8]\n",
    "\n",
    "def process_list(lst):\n",
    "    while len(lst) > 1:  # Jab tak list mein 1 se zyada elements hain\n",
    "        # Step 1: Remove duplicates\n",
    "        lst = list(set(lst))\n",
    "\n",
    "        # Step 2: Sort the remaining elements\n",
    "        lst = sorted(lst)\n",
    "\n",
    "        # Display updated list after removing duplicates and sorting\n",
    "        print(f\"Updated list: {lst}\")\n",
    "\n",
    "        # Check for condition to stop if only 1 and 0 are left\n",
    "        if lst == [0, 1]:\n",
    "            print(\"List has reached [0, 1], stopping loop.\")\n",
    "            break\n",
    "\n",
    "        if len(lst) > 1:  # Subtract operation tab hi chale jab 2 ya usse zyada elements ho\n",
    "            largest = lst.pop()  # Get the largest element\n",
    "            second_largest = lst[-1]  # Get the second largest element\n",
    "            result = largest - second_largest  # Subtract them\n",
    "            print(f\"Subtracting {second_largest} from {largest}: {result}\")\n",
    "\n",
    "            # Step 3: Add the result back to the list\n",
    "            lst.append(result)\n",
    "        else:\n",
    "            print(\"Final list:\", lst)\n",
    "            break\n",
    "\n",
    "    return lst\n",
    "\n",
    "# Initial call with the original list\n",
    "final_list = process_list(x)\n"
   ]
  },
  {
   "cell_type": "code",
   "execution_count": null,
   "metadata": {},
   "outputs": [],
   "source": [
    "import heapq\n",
    "from typing import List\n",
    "\n",
    "class Solution:\n",
    "    def lastStoneWeight(self, stones: List[int]) -> int:\n",
    "        # Convert all stones to negative to use min-heap as a max-heap\n",
    "        stones = [-i for i in stones]\n",
    "        heapq.heapify(stones)\n",
    "        \n",
    "        # Continue smashing stones until there is one or no stone left\n",
    "        while len(stones) > 1:\n",
    "            # Get the two heaviest stones\n",
    "            first_h_stone = abs(heapq.heappop(stones))\n",
    "            second_h_stone = abs(heapq.heappop(stones))\n",
    "            \n",
    "            # If they are not the same, push the difference back\n",
    "            if first_h_stone != second_h_stone:\n",
    "                heapq.heappush(stones, -abs(first_h_stone - second_h_stone))\n",
    "        \n",
    "        # Return the last stone weight, or 0 if no stones left\n",
    "        if len(stones):\n",
    "            return abs(stones[0])\n",
    "        else:\n",
    "            return 0\n"
   ]
  },
  {
   "cell_type": "markdown",
   "metadata": {},
   "source": [
    "# Additional Codes"
   ]
  },
  {
   "cell_type": "code",
   "execution_count": 5,
   "metadata": {},
   "outputs": [
    {
     "name": "stdout",
     "output_type": "stream",
     "text": [
      "Method 1: {0, 2, 3, 4, 5, 6, 7, 8, 9}\n"
     ]
    }
   ],
   "source": [
    "# Original list\n",
    "x = [0, 2, 3, 4, 5, 3, 2, 7, 6, 7, 9, 8]\n",
    "\n",
    "# 1. Using the set() constructor\n",
    "x_set1 = set(x)\n",
    "print(\"Method 1:\", x_set1)\n"
   ]
  },
  {
   "cell_type": "code",
   "execution_count": 6,
   "metadata": {},
   "outputs": [
    {
     "name": "stdout",
     "output_type": "stream",
     "text": [
      "Method 2: {0, 2, 3, 4, 5, 6, 7, 8, 9}\n"
     ]
    }
   ],
   "source": [
    "# Original list\n",
    "x = [0, 2, 3, 4, 5, 3, 2, 7, 6, 7, 9, 8]\n",
    "\n",
    "x_set2 = set(dict.fromkeys(x).keys())\n",
    "\n",
    "print('Method 2:',x_set2)"
   ]
  },
  {
   "cell_type": "code",
   "execution_count": 8,
   "metadata": {},
   "outputs": [
    {
     "name": "stdout",
     "output_type": "stream",
     "text": [
      "Method 3: {0, 2, 3, 4, 5, 6, 7, 8, 9}\n"
     ]
    }
   ],
   "source": [
    "x = [0, 2, 3, 4, 5, 3, 2, 7, 6, 7, 9, 8]\n",
    "\n",
    "x_set3 = set()\n",
    "\n",
    "for item in x:\n",
    "    x_set3.add(item)\n",
    "\n",
    "print('Method 3:',x_set3)"
   ]
  },
  {
   "cell_type": "code",
   "execution_count": 9,
   "metadata": {},
   "outputs": [
    {
     "name": "stdout",
     "output_type": "stream",
     "text": [
      "Method 4: {0, 2, 3, 4, 5, 6, 7, 8, 9}\n"
     ]
    }
   ],
   "source": [
    "x = [0, 2, 3, 4, 5, 3, 2, 7, 6, 7, 9, 8]\n",
    "\n",
    "x_set4 = set([i for i in x])\n",
    "\n",
    "print('Method 4:',x_set4)"
   ]
  },
  {
   "cell_type": "code",
   "execution_count": 2,
   "metadata": {},
   "outputs": [
    {
     "name": "stdout",
     "output_type": "stream",
     "text": [
      "[0, 2, 3, 4, 5, 7, 6, 9, 8]\n"
     ]
    }
   ],
   "source": [
    "x = [0, 2, 3, 4, 5, 3, 2, 7, 6, 7, 9, 8]\n",
    "\n",
    "y = []\n",
    "def unique_list():\n",
    "    for item in x:\n",
    "        if item not in y:\n",
    "            y.append(item)\n",
    "    print(y)\n",
    "\n",
    "unique_list()\n"
   ]
  },
  {
   "cell_type": "code",
   "execution_count": null,
   "metadata": {},
   "outputs": [],
   "source": []
  }
 ],
 "metadata": {
  "kernelspec": {
   "display_name": "Python 3",
   "language": "python",
   "name": "python3"
  },
  "language_info": {
   "codemirror_mode": {
    "name": "ipython",
    "version": 3
   },
   "file_extension": ".py",
   "mimetype": "text/x-python",
   "name": "python",
   "nbconvert_exporter": "python",
   "pygments_lexer": "ipython3",
   "version": "3.12.6"
  }
 },
 "nbformat": 4,
 "nbformat_minor": 2
}
