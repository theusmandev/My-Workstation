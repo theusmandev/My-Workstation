{
 "cells": [
  {
   "cell_type": "code",
   "execution_count": null,
   "metadata": {},
   "outputs": [],
   "source": [
    "print('Hello world')"
   ]
  },
  {
   "cell_type": "markdown",
   "metadata": {},
   "source": [
    "Given a string containing just the characters {(])}  determine if the i np ut string is valid.\n",
    "<br>\n",
    "1. Open brackets must be closed by the same type of brackets.\n",
    "<br>\n",
    "2. Open brackets must be closed in the correct order.\n",
    "<br>\n",
    "<br>\n",
    "input: \"()\"\n",
    "<br>\n",
    "Output: \"()[]{}\"\n",
    "<br>\n",
    "true\n",
    "\n",
    "<br>\n",
    "input: \"(}\"\n",
    "<br>\n",
    "output: false"
   ]
  },
  {
   "cell_type": "code",
   "execution_count": 2,
   "metadata": {},
   "outputs": [
    {
     "name": "stdout",
     "output_type": "stream",
     "text": [
      "{'(', ')', ']', '[', '{', '}'}\n"
     ]
    }
   ],
   "source": [
    "input_string = '()[]{}'\n",
    "\n",
    "output = set(input_string)\n",
    "print(output)\n"
   ]
  },
  {
   "cell_type": "markdown",
   "metadata": {},
   "source": [
    "OrderedDict([('(', None), (')', None), ('[', None), (']', None), ('{', None), ('}', None)])\n"
   ]
  },
  {
   "cell_type": "code",
   "execution_count": 5,
   "metadata": {},
   "outputs": [
    {
     "name": "stdout",
     "output_type": "stream",
     "text": [
      "{'(', ')', ']', '[', '{', '}'}\n"
     ]
    }
   ],
   "source": [
    "from collections import OrderedDict\n",
    "\n",
    "input_string = '()[]{}'\n",
    "\n",
    "output = set(''.join(OrderedDict.fromkeys(input_string)))\n",
    "\n",
    "print(output)"
   ]
  }
 ],
 "metadata": {
  "kernelspec": {
   "display_name": "Python 3",
   "language": "python",
   "name": "python3"
  },
  "language_info": {
   "codemirror_mode": {
    "name": "ipython",
    "version": 3
   },
   "file_extension": ".py",
   "mimetype": "text/x-python",
   "name": "python",
   "nbconvert_exporter": "python",
   "pygments_lexer": "ipython3",
   "version": "3.12.6"
  }
 },
 "nbformat": 4,
 "nbformat_minor": 2
}
