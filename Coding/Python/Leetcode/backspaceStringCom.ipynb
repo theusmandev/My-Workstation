{
 "cells": [
  {
   "cell_type": "code",
   "execution_count": 1,
   "metadata": {},
   "outputs": [
    {
     "name": "stdout",
     "output_type": "stream",
     "text": [
      "Hello World\n"
     ]
    }
   ],
   "source": [
    "print('Hello World')"
   ]
  },
  {
   "cell_type": "markdown",
   "metadata": {},
   "source": [
    "### Given two strings S and T , return if they are equal when both are typed into empty text editors , # means a backspace character.\n",
    "<br>\n",
    "\n",
    "Example 1:<br>\n",
    "Input: S='ab#c', T = 'ad#c'<br>\n",
    "Output: true<br>\n",
    "Explanation: Both S and T become 'ac'\n",
    "\n",
    "<br><br>\n",
    "\n",
    "Example 2:<br>\n",
    "Input: S = 'ab##' , T = 'c#d#'<br>\n",
    "Output: true<br>\n",
    "Explanation: Both S and T become ''.\n"
   ]
  },
  {
   "cell_type": "code",
   "execution_count": 2,
   "metadata": {},
   "outputs": [
    {
     "name": "stdout",
     "output_type": "stream",
     "text": [
      "'#' is found at index: 2\n"
     ]
    }
   ],
   "source": [
    "S = 'ab#c'\n",
    "\n",
    "for i, char in enumerate(S):\n",
    "    if char == \"#\":\n",
    "        print(f\"'#' is found at index: {i}\")\n",
    "\n",
    "        \n"
   ]
  },
  {
   "cell_type": "code",
   "execution_count": 3,
   "metadata": {},
   "outputs": [
    {
     "name": "stdout",
     "output_type": "stream",
     "text": [
      "'#' is found at indexes: [2]\n"
     ]
    }
   ],
   "source": [
    "S = 'ab#c'\n",
    "\n",
    "# List of all indexes where '#' is found\n",
    "indexes = [i for i, char in enumerate(S) if char == '#']\n",
    "\n",
    "print(f\"'#' is found at indexes: {indexes}\")\n"
   ]
  },
  {
   "cell_type": "markdown",
   "metadata": {},
   "source": [
    "In Python, strings are immutable, meaning you cannot directly delete or modify individual characters within a string. However, you can create a new string with the desired changes. If you want to \"delete\" a character from a string, you would need to remove it by creating a new string without that character."
   ]
  },
  {
   "cell_type": "code",
   "execution_count": 5,
   "metadata": {},
   "outputs": [
    {
     "name": "stdout",
     "output_type": "stream",
     "text": [
      "ac\n"
     ]
    }
   ],
   "source": [
    "S = 'ab#c'\n",
    "\n",
    "# Delete the character at index 2 and the one before it (index 1)\n",
    "new_string = S[:1] + S[3:]\n",
    "\n",
    "print(new_string)\n"
   ]
  },
  {
   "cell_type": "markdown",
   "metadata": {},
   "source": [
    "# Solution"
   ]
  },
  {
   "cell_type": "code",
   "execution_count": 7,
   "metadata": {},
   "outputs": [
    {
     "name": "stdout",
     "output_type": "stream",
     "text": [
      "ab#c#j#jf\n"
     ]
    }
   ],
   "source": [
    "S = 'ab#c#j#jfa#'\n",
    "\n",
    "for i, char in enumerate(S):\n",
    "    if char == \"#\": \n",
    "        new_string = S[:i-1] + S[i+1:]\n",
    "print(new_string)\n",
    "\n"
   ]
  },
  {
   "cell_type": "code",
   "execution_count": 9,
   "metadata": {},
   "outputs": [
    {
     "name": "stdout",
     "output_type": "stream",
     "text": [
      "af\n"
     ]
    }
   ],
   "source": [
    "S = 'ab#c#j##jfa#'\n",
    "\n",
    "# Initialize an empty list to store the indexes to be removed\n",
    "to_remove = []\n",
    "\n",
    "# Loop through the string and collect indexes to remove\n",
    "for i, char in enumerate(S):\n",
    "    if char == \"#\":\n",
    "        # Ensure that there is a character before '#'\n",
    "        if i > 0:\n",
    "            to_remove.append(i)    # index of '#'\n",
    "            to_remove.append(i-1)  # index of the character before '#'\n",
    "\n",
    "# Convert the string to a list (since strings are immutable)\n",
    "S_list = list(S)\n",
    "\n",
    "# Sort indexes in reverse order to remove them safely without affecting other indices\n",
    "to_remove = sorted(to_remove, reverse=True)\n",
    "\n",
    "# Remove the characters at the collected indexes\n",
    "for index in to_remove:\n",
    "    del S_list[index]\n",
    "\n",
    "# Join the list back to form the final string\n",
    "new_string = ''.join(S_list)\n",
    "\n",
    "print(new_string)\n"
   ]
  },
  {
   "cell_type": "code",
   "execution_count": 19,
   "metadata": {},
   "outputs": [
    {
     "name": "stdout",
     "output_type": "stream",
     "text": [
      "\n"
     ]
    }
   ],
   "source": [
    "S = 'ab##c#j#jfa##'         #Good\n",
    "\n",
    "# Convert the string into a list since strings are immutable\n",
    "S_list = list(S)\n",
    "\n",
    "# Use a while loop to go through the list and remove # and the previous character\n",
    "i = 0\n",
    "while i < len(S_list):\n",
    "    if S_list[i] == \"#\":\n",
    "        # Remove the current '#' and the previous character if it exists\n",
    "        if i > 0:\n",
    "            del S_list[i]      # Delete the '#'\n",
    "            del S_list[i-1]    # Delete the previous character\n",
    "            i -= 1  # Adjust the index after deletion\n",
    "        else:\n",
    "            del S_list[i]  # If '#' is at the beginning, just remove it\n",
    "    else:\n",
    "        i += 1  # Move to the next character if no '#' is found\n",
    "\n",
    "# Join the list back into a string\n",
    "new_string = ''.join(S_list)\n",
    "\n",
    "print(new_string)\n"
   ]
  },
  {
   "cell_type": "code",
   "execution_count": 18,
   "metadata": {},
   "outputs": [
    {
     "name": "stdout",
     "output_type": "stream",
     "text": [
      "\n"
     ]
    }
   ],
   "source": [
    "T = 'ab##c#j##'         #Good\n",
    "\n",
    "# Convert the string into a list since strings are immutable\n",
    "T_list = list(T)\n",
    "\n",
    "# Use a while loop to go through the list and remove # and the previous character\n",
    "i = 0\n",
    "while i < len(T_list):\n",
    "    if T_list[i] == \"#\":\n",
    "        # Remove the current '#' and the previous character if it exists\n",
    "        if i > 0:\n",
    "            del T_list[i]      # Delete the '#'\n",
    "            del T_list[i-1]    # Delete the previous character\n",
    "            i -= 1  # Adjust the index after deletion\n",
    "        else:\n",
    "            del T_list[i]  # If '#' is at the beginning, just remove it\n",
    "    else:\n",
    "        i += 1  # Move to the next character if no '#' is found\n",
    "\n",
    "# Join the list back into a string\n",
    "new_string = ''.join(T_list)\n",
    "\n",
    "print(new_string)\n"
   ]
  },
  {
   "cell_type": "code",
   "execution_count": 3,
   "metadata": {},
   "outputs": [],
   "source": [
    "class Solution:\n",
    "    def backspaceCompare(self, S: str, T: str) -> bool:\n",
    "        def build_string(string: str) -> list:\n",
    "            result = []\n",
    "            for char in string:\n",
    "                if char == '#':\n",
    "                    if result:  # Only pop if there is something to pop\n",
    "                        result.pop()\n",
    "                else:\n",
    "                    result.append(char)\n",
    "            return result\n",
    "\n",
    "        # Compare the final versions of both strings after applying backspaces\n",
    "        return build_string(S) == build_string(T)\n"
   ]
  }
 ],
 "metadata": {
  "kernelspec": {
   "display_name": "Python 3",
   "language": "python",
   "name": "python3"
  },
  "language_info": {
   "codemirror_mode": {
    "name": "ipython",
    "version": 3
   },
   "file_extension": ".py",
   "mimetype": "text/x-python",
   "name": "python",
   "nbconvert_exporter": "python",
   "pygments_lexer": "ipython3",
   "version": "3.12.6"
  }
 },
 "nbformat": 4,
 "nbformat_minor": 2
}
