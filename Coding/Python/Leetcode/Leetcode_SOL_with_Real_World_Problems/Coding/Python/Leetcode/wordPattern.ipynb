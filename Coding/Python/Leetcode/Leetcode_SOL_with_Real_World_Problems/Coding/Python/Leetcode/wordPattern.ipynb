{
 "cells": [
  {
   "cell_type": "code",
   "execution_count": 1,
   "metadata": {},
   "outputs": [
    {
     "name": "stdout",
     "output_type": "stream",
     "text": [
      "Hello World\n"
     ]
    }
   ],
   "source": [
    "print('Hello World')"
   ]
  },
  {
   "cell_type": "markdown",
   "metadata": {},
   "source": [
    "### Given a pattern and a string str, find if str follows the same pattern\n",
    "\n",
    "<br>\n",
    "\n",
    "Example:<br>\n",
    "Input: pattern = 'abba' , str = ' dog cat cat dog'<br>\n",
    "Output: true"
   ]
  },
  {
   "cell_type": "code",
   "execution_count": 1,
   "metadata": {},
   "outputs": [
    {
     "name": "stdout",
     "output_type": "stream",
     "text": [
      "['a', 'b', 'b', 'a']\n"
     ]
    }
   ],
   "source": [
    "u = 'abba'\n",
    "j = list(u)\n",
    "print(j)\n"
   ]
  },
  {
   "cell_type": "code",
   "execution_count": 2,
   "metadata": {},
   "outputs": [
    {
     "name": "stdout",
     "output_type": "stream",
     "text": [
      "['dog', 'cat', 'cat', 'dog']\n"
     ]
    }
   ],
   "source": [
    "y = 'dog cat cat dog'\n",
    "words_list = y.split()\n",
    "print(words_list)\n"
   ]
  },
  {
   "cell_type": "markdown",
   "metadata": {},
   "source": [
    "# Additonal codes"
   ]
  },
  {
   "cell_type": "code",
   "execution_count": 3,
   "metadata": {},
   "outputs": [
    {
     "name": "stdout",
     "output_type": "stream",
     "text": [
      "ab\n"
     ]
    }
   ],
   "source": [
    "x = 'abba'\n",
    "\n",
    "new_string = ''.join(sorted(set(x),key = x.index))\n",
    "print(new_string)"
   ]
  },
  {
   "cell_type": "code",
   "execution_count": 7,
   "metadata": {},
   "outputs": [
    {
     "name": "stdout",
     "output_type": "stream",
     "text": [
      "['a', 'b']\n"
     ]
    }
   ],
   "source": [
    "x = 'abba'\n",
    "\n",
    "my_list = sorted(set(x),key = x .index)\n",
    "\n",
    "print(my_list)"
   ]
  },
  {
   "cell_type": "markdown",
   "metadata": {},
   "source": [
    "# Solution"
   ]
  },
  {
   "cell_type": "code",
   "execution_count": 6,
   "metadata": {},
   "outputs": [],
   "source": [
    "class Solution:\n",
    "    def wordPattern(self, pattern: str, str: str)->bool:\n",
    "        words = str.split(' ')\n",
    "        if not len(words) == len(pattern):\n",
    "            return False\n",
    "        ch_to_word = {}\n",
    "        word_to_ch = {}\n",
    "        for ch, word in zip(pattern,words):\n",
    "            if ch not in ch_to_word:\n",
    "\n",
    "\n",
    "                if word in word_to_ch:\n",
    "\n",
    "\n",
    "                    return False\n",
    "                else:\n",
    "                    ch_to_word[ch] = word\n",
    "\n",
    "                    word_to_ch[word] = ch\n",
    "\n",
    "            else:\n",
    "                if ch_to_word[ch] != word:\n",
    "                    return False\n",
    "        return True"
   ]
  }
 ],
 "metadata": {
  "kernelspec": {
   "display_name": "Python 3",
   "language": "python",
   "name": "python3"
  },
  "language_info": {
   "codemirror_mode": {
    "name": "ipython",
    "version": 3
   },
   "file_extension": ".py",
   "mimetype": "text/x-python",
   "name": "python",
   "nbconvert_exporter": "python",
   "pygments_lexer": "ipython3",
   "version": "3.13.2"
  }
 },
 "nbformat": 4,
 "nbformat_minor": 2
}
