{
 "cells": [
  {
   "cell_type": "code",
   "execution_count": 1,
   "metadata": {},
   "outputs": [
    {
     "name": "stdout",
     "output_type": "stream",
     "text": [
      "Hello World\n"
     ]
    }
   ],
   "source": [
    "print('Hello World')"
   ]
  },
  {
   "cell_type": "code",
   "execution_count": null,
   "metadata": {},
   "outputs": [],
   "source": []
  },
  {
   "cell_type": "markdown",
   "metadata": {},
   "source": [
    "### Find all possible combination of k numbers that add up to a number n, given that only numbers from 1 to 9 can be used and each combination should be a unique set of numbers.\n",
    "<br>\n",
    "Note:<br>\n",
    "1. All numbers will be positive integers.<br>\n",
    "2. the solution set must not cantain duplicate combinations."
   ]
  },
  {
   "cell_type": "code",
   "execution_count": 4,
   "metadata": {},
   "outputs": [
    {
     "name": "stdout",
     "output_type": "stream",
     "text": [
      "[0, 1, 2, 3, 4, 5]\n"
     ]
    }
   ],
   "source": [
    "x = [0, 1, 2, 3, 4, 5, 6, 7, 8, 9]\n",
    "new_array = [num for num in x if num <=5]\n",
    "print(new_array)"
   ]
  },
  {
   "cell_type": "code",
   "execution_count": 11,
   "metadata": {},
   "outputs": [
    {
     "name": "stdout",
     "output_type": "stream",
     "text": [
      "[[0, 5], [1, 4], [2, 3]]\n"
     ]
    }
   ],
   "source": [
    "x = [0, 1, 2, 3, 4, 5]\n",
    "\n",
    "pairs = []\n",
    "\n",
    "# Iterate through all possible pairs\n",
    "for i in range(len(x)):\n",
    "    for j in range(i + 1, len(x)):\n",
    "        if x[i] + x[j] == 5:\n",
    "            pairs.append([x[i], x[j]])\n",
    "\n",
    "print(pairs)\n"
   ]
  },
  {
   "cell_type": "markdown",
   "metadata": {},
   "source": [
    "# Solution"
   ]
  },
  {
   "cell_type": "code",
   "execution_count": 8,
   "metadata": {},
   "outputs": [
    {
     "name": "stdout",
     "output_type": "stream",
     "text": [
      "[[0, 5], [1, 4], [2, 3]]\n"
     ]
    }
   ],
   "source": [
    "x = [0, 1, 2, 3, 4, 5, 6, 7, 8, 9]\n",
    "new_array = [num for num in x if num <= 5]  # Filtering values <= 5\n",
    "\n",
    "sumcombo = []\n",
    "\n",
    "# Iterate through all possible pairs\n",
    "for i in range(len(new_array)):\n",
    "    for j in range(i + 1, len(new_array)):\n",
    "        if new_array[i] + new_array[j] == 5:\n",
    "            sumcombo.append([new_array[i], new_array[j]])\n",
    "\n",
    "print(sumcombo)\n"
   ]
  },
  {
   "cell_type": "code",
   "execution_count": 1,
   "metadata": {},
   "outputs": [],
   "source": [
    "from typing import List\n",
    "\n",
    "class Solution:\n",
    "    def combinationSum3(self, k: int, n: int) -> List[List[int]]:\n",
    "        def dfs(digit, start_num, cur, cur_sum):\n",
    "            if cur_sum == n and digit == k:\n",
    "                ans.append(cur[:])\n",
    "            elif digit >= k or cur_sum > n:\n",
    "                return\n",
    "            else:\n",
    "                for i in range(start_num + 1, 10):\n",
    "                    cur.append(i)\n",
    "                    dfs(digit + 1, i, cur, cur_sum + i)  # Pass the updated cur_sum\n",
    "                    cur.pop()\n",
    "\n",
    "        ans = []\n",
    "        dfs(0, 0, [], 0)\n",
    "        return ans\n"
   ]
  }
 ],
 "metadata": {
  "kernelspec": {
   "display_name": "Python 3",
   "language": "python",
   "name": "python3"
  },
  "language_info": {
   "codemirror_mode": {
    "name": "ipython",
    "version": 3
   },
   "file_extension": ".py",
   "mimetype": "text/x-python",
   "name": "python",
   "nbconvert_exporter": "python",
   "pygments_lexer": "ipython3",
   "version": "3.12.6"
  }
 },
 "nbformat": 4,
 "nbformat_minor": 2
}
