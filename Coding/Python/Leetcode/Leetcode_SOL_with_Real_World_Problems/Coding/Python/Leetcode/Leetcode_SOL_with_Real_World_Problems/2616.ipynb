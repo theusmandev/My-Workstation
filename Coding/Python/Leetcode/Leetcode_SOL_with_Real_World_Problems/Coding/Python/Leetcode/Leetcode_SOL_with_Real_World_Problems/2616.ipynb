{
 "cells": [
  {
   "cell_type": "markdown",
   "id": "2a1462a1",
   "metadata": {},
   "source": [
    "2616. Minimize the Maximum Difference of Pairs"
   ]
  },
  {
   "cell_type": "code",
   "execution_count": 1,
   "id": "ad79a6c0",
   "metadata": {},
   "outputs": [],
   "source": [
    "class StudentGrouper:\n",
    "    def __init__(self, students, p):\n",
    "        self.students = sorted(students, key=lambda x: x['score'])\n",
    "        self.p = p\n",
    "\n",
    "    def can_form_pairs(self, max_diff):\n",
    "        count = 0\n",
    "        i = 0\n",
    "        while i < len(self.students) - 1:\n",
    "            if self.students[i + 1]['score'] - self.students[i]['score'] <= max_diff:\n",
    "                count += 1\n",
    "                i += 2\n",
    "            else:\n",
    "                i += 1\n",
    "        return count >= self.p\n",
    "\n",
    "    def get_minimized_max_difference(self):\n",
    "        scores = [s['score'] for s in self.students]\n",
    "        left, right = 0, max(scores) - min(scores)\n",
    "        ans = 0\n",
    "\n",
    "        while left <= right:\n",
    "            mid = (left + right) // 2\n",
    "            if self.can_form_pairs(mid):\n",
    "                ans = mid\n",
    "                right = mid - 1\n",
    "            else:\n",
    "                left = mid + 1\n",
    "        return ans\n",
    "\n",
    "    def form_pairs(self):\n",
    "        max_diff = self.get_minimized_max_difference()\n",
    "        pairs = []\n",
    "        i = 0\n",
    "        while i < len(self.students) - 1 and len(pairs) < self.p:\n",
    "            s1 = self.students[i]\n",
    "            s2 = self.students[i + 1]\n",
    "            if s2['score'] - s1['score'] <= max_diff:\n",
    "                pairs.append((s1['name'], s2['name']))\n",
    "                i += 2\n",
    "            else:\n",
    "                i += 1\n",
    "        return pairs\n"
   ]
  },
  {
   "cell_type": "code",
   "execution_count": 3,
   "id": "955c2d64",
   "metadata": {},
   "outputs": [
    {
     "name": "stdout",
     "output_type": "stream",
     "text": [
      "Minimum Maximum Difference: 70\n",
      "Formed Pairs: [('Ali', 'Bilal'), ('Fatima', 'Sara'), ('Ayesha', 'Usman')]\n"
     ]
    }
   ],
   "source": [
    "students = [\n",
    "    {\"name\": \"Ali\", \"score\": 1},\n",
    "    {\"name\": \"Sara\", \"score\": 82},\n",
    "    {\"name\": \"Bilal\", \"score\": 71},\n",
    "    {\"name\": \"Fatima\", \"score\": 75},\n",
    "    {\"name\": \"Usman\", \"score\": 90},\n",
    "    {\"name\": \"Ayesha\", \"score\": 88}\n",
    "]\n",
    "\n",
    "grouper = StudentGrouper(students, 3)\n",
    "print(\"Minimum Maximum Difference:\", grouper.get_minimized_max_difference())\n",
    "print(\"Formed Pairs:\", grouper.form_pairs())\n"
   ]
  }
 ],
 "metadata": {
  "kernelspec": {
   "display_name": "Python 3",
   "language": "python",
   "name": "python3"
  },
  "language_info": {
   "codemirror_mode": {
    "name": "ipython",
    "version": 3
   },
   "file_extension": ".py",
   "mimetype": "text/x-python",
   "name": "python",
   "nbconvert_exporter": "python",
   "pygments_lexer": "ipython3",
   "version": "3.13.2"
  }
 },
 "nbformat": 4,
 "nbformat_minor": 5
}
