{
 "cells": [
  {
   "cell_type": "markdown",
   "id": "0bdacb04",
   "metadata": {},
   "source": [
    "2016. Maximum Difference Between Increasing Elements"
   ]
  },
  {
   "cell_type": "code",
   "execution_count": null,
   "id": "15a4c655",
   "metadata": {},
   "outputs": [],
   "source": [
    "class Solution:\n",
    "    def maximumDifference(self, nums):\n",
    "        min_val = nums[0]\n",
    "        max_diff = -1\n",
    "\n",
    "        for i in range(1, len(nums)):\n",
    "            if nums[i] > min_val:\n",
    "                max_diff = max(max_diff, nums[i] - min_val)\n",
    "            else:\n",
    "                min_val = nums[i]\n",
    "\n",
    "        return max_diff\n"
   ]
  },
  {
   "cell_type": "markdown",
   "id": "9a3c4d98",
   "metadata": {},
   "source": [
    "Maximum Stock Profit Finder"
   ]
  },
  {
   "cell_type": "code",
   "execution_count": 1,
   "id": "5350e726",
   "metadata": {},
   "outputs": [
    {
     "ename": "SyntaxError",
     "evalue": "invalid syntax (2830201818.py, line 1)",
     "output_type": "error",
     "traceback": [
      "  \u001b[36mCell\u001b[39m\u001b[36m \u001b[39m\u001b[32mIn[1]\u001b[39m\u001b[32m, line 1\u001b[39m\n\u001b[31m    \u001b[39m\u001b[31mgit init\u001b[39m\n        ^\n\u001b[31mSyntaxError\u001b[39m\u001b[31m:\u001b[39m invalid syntax\n"
     ]
    }
   ],
   "source": [
    "git init"
   ]
  }
 ],
 "metadata": {
  "kernelspec": {
   "display_name": "Python 3",
   "language": "python",
   "name": "python3"
  },
  "language_info": {
   "codemirror_mode": {
    "name": "ipython",
    "version": 3
   },
   "file_extension": ".py",
   "mimetype": "text/x-python",
   "name": "python",
   "nbconvert_exporter": "python",
   "pygments_lexer": "ipython3",
   "version": "3.13.2"
  }
 },
 "nbformat": 4,
 "nbformat_minor": 5
}
