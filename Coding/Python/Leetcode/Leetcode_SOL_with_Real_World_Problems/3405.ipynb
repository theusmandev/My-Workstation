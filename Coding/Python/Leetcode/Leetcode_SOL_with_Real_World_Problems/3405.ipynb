{
 "cells": [
  {
   "cell_type": "markdown",
   "id": "13cd2ed3",
   "metadata": {},
   "source": [
    "3405. Count the Number of Arrays with K Matching Adjacent Elements"
   ]
  },
  {
   "cell_type": "code",
   "execution_count": null,
   "id": "1cd94117",
   "metadata": {},
   "outputs": [],
   "source": [
    "MOD = 10**9 + 7\n",
    "\n",
    "class Solution:\n",
    "    def countGoodArrays(self, n: int, m: int, k: int) -> int:\n",
    "        # dp[i][j]: # of arrays of length i with j adjacent equal pairs\n",
    "        dp = [[0] * (k + 2) for _ in range(n + 1)]\n",
    "        \n",
    "        # Base: for length 1, all m arrays have 0 adjacent equal pairs\n",
    "        dp[1][0] = m\n",
    "        \n",
    "        for i in range(2, n + 1):        # Length from 2 to n\n",
    "            for j in range(0, k + 1):    # Equal adjacent pairs from 0 to k\n",
    "                # Case 1: Add same as previous → increases equal pair count\n",
    "                dp[i][j + 1] = (dp[i][j + 1] + dp[i - 1][j] * 1) % MOD\n",
    "\n",
    "                # Case 2: Add different → keeps equal pair count same\n",
    "                dp[i][j] = (dp[i][j] + dp[i - 1][j] * (m - 1)) % MOD\n",
    "        \n",
    "        return dp[n][k]\n"
   ]
  },
  {
   "cell_type": "code",
   "execution_count": 1,
   "id": "a6b19e11",
   "metadata": {},
   "outputs": [
    {
     "name": "stdout",
     "output_type": "stream",
     "text": [
      "➡️ Number of valid product sequences of length 6 with 2 adjacent repeats:\n",
      "3200\n",
      "\n",
      "🛍️ Sample product sequence (with exactly 2 adjacent repeats):\n",
      "Shoes → Shoes → Shoes → Laptops → Shoes → Laptops\n"
     ]
    }
   ],
   "source": [
    "import random\n",
    "\n",
    "MOD = 10**9 + 7\n",
    "\n",
    "class ProductRecommendationSimulator:\n",
    "    def __init__(self, n, product_types, k):\n",
    "        self.n = n                          # Number of product slots\n",
    "        self.products = product_types       # List of product names\n",
    "        self.m = len(product_types)         # Unique product types\n",
    "        self.k = k                          # Exactly k adjacent repeats\n",
    "        self.dp = [[0] * (k + 2) for _ in range(n + 1)]\n",
    "\n",
    "    def count_sequences(self):\n",
    "        self.dp[1][0] = self.m\n",
    "        for i in range(2, self.n + 1):\n",
    "            for j in range(0, self.k + 1):\n",
    "                # Case 1: same as previous (1 choice)\n",
    "                self.dp[i][j + 1] = (self.dp[i][j + 1] + self.dp[i - 1][j]) % MOD\n",
    "                # Case 2: different from previous (m - 1 choices)\n",
    "                self.dp[i][j] = (self.dp[i][j] + self.dp[i - 1][j] * (self.m - 1)) % MOD\n",
    "        return self.dp[self.n][self.k]\n",
    "\n",
    "    def generate_sequence(self):\n",
    "        # Backtracking to generate a sample sequence with exactly k adjacent repeats\n",
    "        def backtrack(index, adj_repeats, prev, seq):\n",
    "            if index == self.n:\n",
    "                return seq if adj_repeats == self.k else None\n",
    "            for p in self.products:\n",
    "                is_repeat = (p == prev)\n",
    "                new_k = adj_repeats + (1 if is_repeat else 0)\n",
    "                if new_k > self.k:\n",
    "                    continue\n",
    "                res = backtrack(index + 1, new_k, p, seq + [p])\n",
    "                if res:\n",
    "                    return res\n",
    "            return None\n",
    "\n",
    "        return backtrack(0, 0, None, [])\n",
    "\n",
    "# Sample Usage\n",
    "if __name__ == \"__main__\":\n",
    "    product_types = [\"Shoes\", \"Laptops\", \"Watches\", \"Mobiles\", \"Headphones\"]\n",
    "    n = 6  # Length of the recommendation list\n",
    "    k = 2  # Exactly 2 adjacent pairs should be same\n",
    "\n",
    "    sim = ProductRecommendationSimulator(n, product_types, k)\n",
    "\n",
    "    print(f\"➡️ Number of valid product sequences of length {n} with {k} adjacent repeats:\")\n",
    "    print(sim.count_sequences())\n",
    "\n",
    "    print(\"\\n🛍️ Sample product sequence (with exactly 2 adjacent repeats):\")\n",
    "    print(\" → \".join(sim.generate_sequence()))\n"
   ]
  }
 ],
 "metadata": {
  "kernelspec": {
   "display_name": "Python 3",
   "language": "python",
   "name": "python3"
  },
  "language_info": {
   "codemirror_mode": {
    "name": "ipython",
    "version": 3
   },
   "file_extension": ".py",
   "mimetype": "text/x-python",
   "name": "python",
   "nbconvert_exporter": "python",
   "pygments_lexer": "ipython3",
   "version": "3.13.2"
  }
 },
 "nbformat": 4,
 "nbformat_minor": 5
}
