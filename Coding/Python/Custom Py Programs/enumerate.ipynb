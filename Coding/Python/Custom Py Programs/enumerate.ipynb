{
 "cells": [
  {
   "cell_type": "code",
   "execution_count": 1,
   "id": "677ece95",
   "metadata": {},
   "outputs": [],
   "source": [
    "def my_enumerate(iterable, start=0):\n",
    "    index = start\n",
    "    for item in iterable:\n",
    "        yield index, item\n",
    "        index += 1\n"
   ]
  },
  {
   "cell_type": "code",
   "execution_count": 3,
   "id": "e3157568",
   "metadata": {},
   "outputs": [
    {
     "name": "stdout",
     "output_type": "stream",
     "text": [
      "0 apple\n",
      "1 banana\n",
      "2 mango\n"
     ]
    }
   ],
   "source": [
    "fruits = [\"apple\", \"banana\", \"mango\"]\n",
    "\n",
    "for i, fruit in my_enumerate(fruits):\n",
    "    print(f\"{i} {fruit}\")\n"
   ]
  }
 ],
 "metadata": {
  "kernelspec": {
   "display_name": "Python 3",
   "language": "python",
   "name": "python3"
  },
  "language_info": {
   "codemirror_mode": {
    "name": "ipython",
    "version": 3
   },
   "file_extension": ".py",
   "mimetype": "text/x-python",
   "name": "python",
   "nbconvert_exporter": "python",
   "pygments_lexer": "ipython3",
   "version": "3.13.2"
  }
 },
 "nbformat": 4,
 "nbformat_minor": 5
}
