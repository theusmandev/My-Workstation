{
 "cells": [
  {
   "cell_type": "markdown",
   "id": "54a7930a",
   "metadata": {},
   "source": [
    "# Logistic Regression Assignment - Solved"
   ]
  },
  {
   "cell_type": "code",
   "execution_count": null,
   "id": "1053174d",
   "metadata": {},
   "outputs": [],
   "source": [
    "import numpy as np\n",
    "import matplotlib.pyplot as plt\n",
    "import copy\n",
    "import math\n",
    "%matplotlib inline"
   ]
  },
  {
   "cell_type": "markdown",
   "id": "4669ac80",
   "metadata": {},
   "source": [
    "## Sample Data (Normally loaded from 'data1.txt')"
   ]
  },
  {
   "cell_type": "code",
   "execution_count": null,
   "id": "25cbb8b0",
   "metadata": {},
   "outputs": [],
   "source": [
    "X_train = np.array([[34, 78], [30, 43], [35, 72], [60, 86], [79, 75]])\n",
    "y_train = np.array([0, 0, 0, 1, 1])"
   ]
  },
  {
   "cell_type": "markdown",
   "id": "bbef97ea",
   "metadata": {},
   "source": [
    "## Sigmoid Function"
   ]
  },
  {
   "cell_type": "code",
   "execution_count": null,
   "id": "5434f3c0",
   "metadata": {},
   "outputs": [],
   "source": [
    "def sigmoid(z):\n",
    "    return 1 / (1 + np.exp(-z))"
   ]
  },
  {
   "cell_type": "markdown",
   "id": "410e24f9",
   "metadata": {},
   "source": [
    "## Cost Function"
   ]
  },
  {
   "cell_type": "code",
   "execution_count": null,
   "id": "11181e8b",
   "metadata": {},
   "outputs": [],
   "source": [
    "def compute_cost(X, y, w, b):\n",
    "    m = X.shape[0]\n",
    "    cost = 0.0\n",
    "    for i in range(m):\n",
    "        z = np.dot(X[i], w) + b\n",
    "        f_wb = sigmoid(z)\n",
    "        cost += -y[i] * np.log(f_wb) - (1 - y[i]) * np.log(1 - f_wb)\n",
    "    return cost / m"
   ]
  },
  {
   "cell_type": "markdown",
   "id": "4f45418c",
   "metadata": {},
   "source": [
    "## Gradient Function"
   ]
  },
  {
   "cell_type": "code",
   "execution_count": null,
   "id": "11699e25",
   "metadata": {},
   "outputs": [],
   "source": [
    "def compute_gradient(X, y, w, b):\n",
    "    m, n = X.shape\n",
    "    dj_dw = np.zeros(w.shape)\n",
    "    dj_db = 0.0\n",
    "\n",
    "    for i in range(m):\n",
    "        z_i = np.dot(X[i], w) + b\n",
    "        f_wb_i = sigmoid(z_i)\n",
    "        err = f_wb_i - y[i]\n",
    "        for j in range(n):\n",
    "            dj_dw[j] += err * X[i, j]\n",
    "        dj_db += err\n",
    "\n",
    "    dj_dw /= m\n",
    "    dj_db /= m\n",
    "    return dj_dw, dj_db"
   ]
  },
  {
   "cell_type": "markdown",
   "id": "daac9f0b",
   "metadata": {},
   "source": [
    "## Gradient Descent Function"
   ]
  },
  {
   "cell_type": "code",
   "execution_count": null,
   "id": "299b6f34",
   "metadata": {},
   "outputs": [],
   "source": [
    "def gradient_descent(X, y, w_in, b_in, alpha, num_iters):\n",
    "    w = copy.deepcopy(w_in)\n",
    "    b = b_in\n",
    "\n",
    "    for i in range(num_iters):\n",
    "        dj_dw, dj_db = compute_gradient(X, y, w, b)\n",
    "        w -= alpha * dj_dw\n",
    "        b -= alpha * dj_db\n",
    "    return w, b"
   ]
  },
  {
   "cell_type": "markdown",
   "id": "44994d5b",
   "metadata": {},
   "source": [
    "## Prediction Function"
   ]
  },
  {
   "cell_type": "code",
   "execution_count": null,
   "id": "569cb902",
   "metadata": {},
   "outputs": [],
   "source": [
    "def predict(X, w, b):\n",
    "    m = X.shape[0]\n",
    "    p = np.zeros(m)\n",
    "    for i in range(m):\n",
    "        z = np.dot(X[i], w) + b\n",
    "        f_wb = sigmoid(z)\n",
    "        p[i] = 1 if f_wb >= 0.5 else 0\n",
    "    return p"
   ]
  },
  {
   "cell_type": "markdown",
   "id": "07260b07",
   "metadata": {},
   "source": [
    "## Plotting Decision Boundary"
   ]
  },
  {
   "cell_type": "code",
   "execution_count": null,
   "id": "e3612c00",
   "metadata": {},
   "outputs": [],
   "source": [
    "def plot_decision_boundary(w, b, X, y):\n",
    "    plt.scatter(X[:, 0], X[:, 1], c=y, cmap='viridis')\n",
    "    x_value = np.array([np.min(X[:, 0]), np.max(X[:, 0])])\n",
    "    y_value = -(b + w[0]*x_value)/w[1]\n",
    "    plt.plot(x_value, y_value, \"r\")\n",
    "    plt.xlabel(\"Exam 1\")\n",
    "    plt.ylabel(\"Exam 2\")\n",
    "    plt.title(\"Decision Boundary\")\n",
    "    plt.show()"
   ]
  },
  {
   "cell_type": "markdown",
   "id": "e8aa268e",
   "metadata": {},
   "source": [
    "## Train the Model"
   ]
  },
  {
   "cell_type": "code",
   "execution_count": null,
   "id": "07042a5d",
   "metadata": {},
   "outputs": [],
   "source": [
    "w_tmp = np.zeros(X_train.shape[1])\n",
    "b_tmp = 0\n",
    "alpha = 0.01\n",
    "iterations = 1000\n",
    "\n",
    "w_final, b_final = gradient_descent(X_train, y_train, w_tmp, b_tmp, alpha, iterations)"
   ]
  },
  {
   "cell_type": "markdown",
   "id": "cf5c6fdf",
   "metadata": {},
   "source": [
    "## Predict and Evaluate Accuracy"
   ]
  },
  {
   "cell_type": "code",
   "execution_count": null,
   "id": "942a0694",
   "metadata": {},
   "outputs": [],
   "source": [
    "predictions = predict(X_train, w_final, b_final)\n",
    "accuracy = np.mean(predictions == y_train) * 100\n",
    "print(f\"Train Accuracy: {accuracy:.2f}%\")"
   ]
  },
  {
   "cell_type": "markdown",
   "id": "1eec88ff",
   "metadata": {},
   "source": [
    "## Plot Decision Boundary"
   ]
  },
  {
   "cell_type": "code",
   "execution_count": null,
   "id": "94cc0da7",
   "metadata": {},
   "outputs": [],
   "source": [
    "plot_decision_boundary(w_final, b_final, X_train, y_train)"
   ]
  }
 ],
 "metadata": {},
 "nbformat": 4,
 "nbformat_minor": 5
}
